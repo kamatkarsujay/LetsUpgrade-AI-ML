{
 "cells": [
  {
   "cell_type": "markdown",
   "metadata": {},
   "source": [
    "# Day 4 Assignment"
   ]
  },
  {
   "cell_type": "markdown",
   "metadata": {},
   "source": [
    "## Question 1\n",
    "__Research on whether addition, subtraction, multiplication, division, floor division and modulooperations be performed on complex numbers. Based on your study, implement a Python program to demonstrate these operations__"
   ]
  },
  {
   "cell_type": "code",
   "execution_count": 10,
   "metadata": {},
   "outputs": [
    {
     "name": "stdout",
     "output_type": "stream",
     "text": [
      "Addition of two complex no is: (9+21j)\n",
      "Subtraction of two complex no is: (-3-9j)\n",
      "Multiplication of two complex no is: (-72+81j)\n",
      "Division of two complex no is: (0.4137931034482759-0.03448275862068964j)\n"
     ]
    }
   ],
   "source": [
    "# In Python, We can perform addition, subtraction, multiplication ,division operations on complex numbers\n",
    "# We cannot perform floor division and modulus on complex no in python.\n",
    "a = 3 + 6j\n",
    "b = 6 + 15j\n",
    "#Addition\n",
    "print('Addition of two complex no is:', a+b)\n",
    "#Subtraction\n",
    "print('Subtraction of two complex no is:', a-b)\n",
    "#Multiplication\n",
    "print('Multiplication of two complex no is:', a*b)\n",
    "#Division\n",
    "print('Division of two complex no is:', a/b)"
   ]
  },
  {
   "cell_type": "markdown",
   "metadata": {},
   "source": [
    "## Question 2\n",
    "__Research on range() functions and its parameters. Create a markdown cell and write in your ownwords (no copy-paste from google please) what you understand about it. Implement a smallprogram of your choice on the same__"
   ]
  },
  {
   "cell_type": "markdown",
   "metadata": {},
   "source": [
    "## Python Range() Function\n",
    "__Range() is a built in function which returns a sequence of numbers, starting from 0 by default and increments by 1 by default, and stops before a given number.__\n",
    "#### Syntax:\n",
    "#### range(start,stop,step)\n",
    "Start: Initial value (by default 0).\n",
    "Stop: A number specifying where to stop.\n",
    "Step: A number speciyfing the incrementation (by default 1)."
   ]
  },
  {
   "cell_type": "code",
   "execution_count": 13,
   "metadata": {},
   "outputs": [
    {
     "name": "stdout",
     "output_type": "stream",
     "text": [
      "3\n",
      "4\n",
      "5\n",
      "End of Ex.1\n",
      "\n",
      "3\n",
      "5\n",
      "7\n",
      "9\n",
      "11\n",
      "13\n",
      "15\n",
      "17\n",
      "19\n"
     ]
    }
   ],
   "source": [
    "# Ex.1\n",
    "a = range(3, 6)\n",
    "for i in a:\n",
    "  print(i)\n",
    "\n",
    "print('End of Ex.1')\n",
    "print('')\n",
    "\n",
    "# Ex.2\n",
    "b = range(3, 20, 2)\n",
    "for j in b:\n",
    "  print(j)"
   ]
  },
  {
   "cell_type": "markdown",
   "metadata": {},
   "source": [
    "## Question 3\n",
    "__Consider two numbers. Perform their subtraction and if the result of subtraction is greater than25, print their multiplication result else print their division result__"
   ]
  },
  {
   "cell_type": "code",
   "execution_count": 3,
   "metadata": {},
   "outputs": [
    {
     "name": "stdout",
     "output_type": "stream",
     "text": [
      "Substraction of two no is: 30\n",
      "Subtraction is greater than 25\n",
      "Multipication is: 400\n"
     ]
    }
   ],
   "source": [
    "# Assigning two var\n",
    "a = 40\n",
    "b = 10\n",
    "# Subtracting two no\n",
    "res = a - b\n",
    "print('Substraction of two no is:',res)\n",
    "# Checking given condition\n",
    "if res > 25:\n",
    "    print('Subtraction is greater than 25')\n",
    "    mul = a*b\n",
    "    print('Multipication is:',mul)\n",
    "else:\n",
    "    print('Subtraction is less than 25')\n",
    "    div = a/b\n",
    "    print('Division is:',div)"
   ]
  },
  {
   "cell_type": "markdown",
   "metadata": {},
   "source": [
    "## Question 4\n",
    "__Consider a list of 10 elements of integer values. If the number in the list is divisible by 2, print theresult as \"square of that number minus 2\"__"
   ]
  },
  {
   "cell_type": "code",
   "execution_count": 6,
   "metadata": {},
   "outputs": [
    {
     "name": "stdout",
     "output_type": "stream",
     "text": [
      "98\n",
      "574\n",
      "1294\n",
      "194\n",
      "3598\n",
      "2498\n",
      "398\n"
     ]
    }
   ],
   "source": [
    "# Creating list of 10 values\n",
    "l = [10,24,36,47,14,25,60,23,50,20]\n",
    "for i in l:\n",
    "    if i%2 == 0:\n",
    "        print(i**2-2)"
   ]
  },
  {
   "cell_type": "markdown",
   "metadata": {},
   "source": [
    "## Question 5\n",
    "__Consider a list of 10 elements. Print all the elements in the list which are greater than 7 when thatnumber is divided 2__"
   ]
  },
  {
   "cell_type": "code",
   "execution_count": 8,
   "metadata": {},
   "outputs": [
    {
     "name": "stdout",
     "output_type": "stream",
     "text": [
      "24\n",
      "47\n",
      "25\n",
      "23\n",
      "50\n",
      "20\n"
     ]
    }
   ],
   "source": [
    "# Creating list of 10 values\n",
    "l = [10,24,6,47,14,25,8,23,50,20]\n",
    "for i in l:\n",
    "    if i/2 > 7:\n",
    "        print(i)"
   ]
  }
 ],
 "metadata": {
  "kernelspec": {
   "display_name": "Python 3.7.7 64-bit",
   "language": "python",
   "name": "python37764bitb1f3ef7438764c35adff473abad36631"
  },
  "language_info": {
   "codemirror_mode": {
    "name": "ipython",
    "version": 3
   },
   "file_extension": ".py",
   "mimetype": "text/x-python",
   "name": "python",
   "nbconvert_exporter": "python",
   "pygments_lexer": "ipython3",
   "version": "3.7.7"
  }
 },
 "nbformat": 4,
 "nbformat_minor": 4
}
