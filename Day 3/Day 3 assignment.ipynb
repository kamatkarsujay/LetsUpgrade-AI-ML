{
 "cells": [
  {
   "cell_type": "markdown",
   "metadata": {},
   "source": [
    "# Assignment 1"
   ]
  },
  {
   "cell_type": "markdown",
   "metadata": {},
   "source": [
    "## Question 1\n",
    "__Write a program to subtract two complex numbers in python__"
   ]
  },
  {
   "cell_type": "code",
   "execution_count": 9,
   "metadata": {},
   "outputs": [
    {
     "name": "stdout",
     "output_type": "stream",
     "text": [
      "Complex no are: (5+3j) (3+2j)\n",
      "Subtraction of two complex no is: (2+1j)\n"
     ]
    }
   ],
   "source": [
    "#Assinging val to a var\n",
    "a = complex(5,3)\n",
    "b = complex(3,2)\n",
    "print('Complex no are:',a,b)\n",
    "#Subtracting two complex no \n",
    "c = a - b\n",
    "print('Subtraction of two complex no is:',c)"
   ]
  },
  {
   "cell_type": "markdown",
   "metadata": {},
   "source": [
    "## Question 2\n",
    "__Write a program to find the fourth root of a number__"
   ]
  },
  {
   "cell_type": "code",
   "execution_count": 8,
   "metadata": {},
   "outputs": [
    {
     "name": "stdout",
     "output_type": "stream",
     "text": [
      "Fourth root of 6 is: 1296\n"
     ]
    }
   ],
   "source": [
    "#Assinging a val to var\n",
    "a = 6\n",
    "#Finding the fourth root of a\n",
    "r = a**4\n",
    "print('Fourth root of 6 is:',r)"
   ]
  },
  {
   "cell_type": "markdown",
   "metadata": {},
   "source": [
    "## Question 3\n",
    "__Write a program to swap two numbers in python with the help of a temporary variable__"
   ]
  },
  {
   "cell_type": "code",
   "execution_count": 6,
   "metadata": {},
   "outputs": [
    {
     "name": "stdout",
     "output_type": "stream",
     "text": [
      "Before swapping: a=10, b=20\n",
      "After swapping: a=20, b=10\n"
     ]
    }
   ],
   "source": [
    "#Assigning val to var a and b\n",
    "a = 10\n",
    "b = 20\n",
    "print('Before swapping: a={}, b={}'.format(a,b))\n",
    "#Assigning val to temp variable\n",
    "c = a\n",
    "a = b\n",
    "b = c\n",
    "print('After swapping: a={}, b={}'.format(a,b))"
   ]
  },
  {
   "cell_type": "markdown",
   "metadata": {},
   "source": [
    "## Question 4\n",
    "__Write a program to swap two numbers in Python without using a temporary variable.__"
   ]
  },
  {
   "cell_type": "code",
   "execution_count": 5,
   "metadata": {},
   "outputs": [
    {
     "name": "stdout",
     "output_type": "stream",
     "text": [
      "Before swapping: a=5, b=6\n",
      "After swapping: a=6, b=5\n"
     ]
    }
   ],
   "source": [
    "#Assigning val to var a and b\n",
    "a = 5\n",
    "b = 6\n",
    "print('Before swapping: a={}, b={}'.format(a,b))\n",
    "#Swapping two var\n",
    "a,b=b,a\n",
    "print('After swapping: a={}, b={}'.format(a,b))"
   ]
  },
  {
   "cell_type": "markdown",
   "metadata": {},
   "source": [
    "## Question 5\n",
    "__Write a program to convert fahrenheit to kelvin and celsius both__"
   ]
  },
  {
   "cell_type": "code",
   "execution_count": 3,
   "metadata": {},
   "outputs": [
    {
     "name": "stdout",
     "output_type": "stream",
     "text": [
      "Temp in Fahrenheit:  98\n",
      "Temp in Celsius:  36.66666666666667\n",
      "Temp in Kelvin:  309.6666666666667\n"
     ]
    }
   ],
   "source": [
    "F = 98 #Temp in Fahrenheit\n",
    "print('Temp in Fahrenheit: ',F)\n",
    "#Converting to Celsius\n",
    "C = 5/9 * (F-32)\n",
    "print('Temp in Celsius: ',C)\n",
    "#Converting to Kelvin\n",
    "K = C + 273\n",
    "print('Temp in Kelvin: ',K)"
   ]
  },
  {
   "cell_type": "markdown",
   "metadata": {},
   "source": [
    "## Question 6\n",
    "__Write a program to demonstrate all the available data types in Python. Hint: Use type() function__"
   ]
  },
  {
   "cell_type": "code",
   "execution_count": 17,
   "metadata": {},
   "outputs": [
    {
     "name": "stdout",
     "output_type": "stream",
     "text": [
      "<class 'int'>\n",
      "<class 'float'>\n",
      "<class 'str'>\n",
      "<class 'bool'>\n",
      "<class 'complex'>\n",
      "<class 'list'>\n",
      "<class 'tuple'>\n",
      "<class 'dict'>\n",
      "<class 'set'>\n"
     ]
    }
   ],
   "source": [
    "#Int\n",
    "a = 2\n",
    "print(type(a))\n",
    "#Float\n",
    "b = 1.2\n",
    "print(type(b))\n",
    "#String\n",
    "c = 'Hello'\n",
    "print(type(c))\n",
    "#Boolean\n",
    "d = True\n",
    "print(type(d))\n",
    "#Complex\n",
    "e = 3+2j\n",
    "print(type(e))\n",
    "#List\n",
    "f = [1,2,3]\n",
    "print(type(f))\n",
    "#Tuple\n",
    "g = (1,2,3)\n",
    "print(type(g))\n",
    "#Dictonary\n",
    "h = {1:'Hello',2:'World'}\n",
    "print(type(h))\n",
    "#Set\n",
    "i = {1,2,3}\n",
    "print(type(i))"
   ]
  },
  {
   "cell_type": "markdown",
   "metadata": {},
   "source": [
    "## Question 7\n",
    "__Create a Markdown cell in jupyter and list the steps discussed in the session by Dr. DarshanIngle sir to create Github profile and upload Githubs Assignment link__"
   ]
  },
  {
   "cell_type": "markdown",
   "metadata": {},
   "source": [
    "### Step 1\n",
    "__Go to Github.com__\n",
    "### Step 2\n",
    "__Sign Up with your email and password.__\n",
    "### Step 3\n",
    "__Create a Repository with name LetsUpgrade-AI-ML.__\n",
    "### Step 4 \n",
    "__Create a day wise folder for assignments.__\n",
    "### Step 5\n",
    "__Upload a jupyter notebook file in that folder.__\n",
    "### Step 6\n",
    "__Copy that link and upload it on the google form and submit.__"
   ]
  },
  {
   "cell_type": "code",
   "execution_count": null,
   "metadata": {},
   "outputs": [],
   "source": []
  }
 ],
 "metadata": {
  "kernelspec": {
   "display_name": "Python 3",
   "language": "python",
   "name": "python3"
  },
  "language_info": {
   "codemirror_mode": {
    "name": "ipython",
    "version": 3
   },
   "file_extension": ".py",
   "mimetype": "text/x-python",
   "name": "python",
   "nbconvert_exporter": "python",
   "pygments_lexer": "ipython3",
   "version": "3.7.7"
  }
 },
 "nbformat": 4,
 "nbformat_minor": 4
}
