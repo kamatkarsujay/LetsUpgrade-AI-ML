{
 "cells": [
  {
   "cell_type": "code",
   "execution_count": 1,
   "metadata": {},
   "outputs": [],
   "source": [
    "import numpy as np"
   ]
  },
  {
   "cell_type": "markdown",
   "metadata": {},
   "source": [
    "# 1. Create a 3x3x3 array with random values "
   ]
  },
  {
   "cell_type": "code",
   "execution_count": 2,
   "metadata": {},
   "outputs": [
    {
     "data": {
      "text/plain": [
       "array([[[0.42031504, 0.0574527 , 0.21053851],\n",
       "        [0.35226014, 0.07918966, 0.90718312],\n",
       "        [0.2039906 , 0.05367571, 0.98379623]],\n",
       "\n",
       "       [[0.2200949 , 0.93582537, 0.29588385],\n",
       "        [0.95798587, 0.08263223, 0.87753117],\n",
       "        [0.10475312, 0.47981686, 0.12990999]],\n",
       "\n",
       "       [[0.60536714, 0.52261826, 0.131022  ],\n",
       "        [0.433356  , 0.25346912, 0.37671265],\n",
       "        [0.86828053, 0.22131577, 0.43665555]]])"
      ]
     },
     "execution_count": 2,
     "metadata": {},
     "output_type": "execute_result"
    }
   ],
   "source": [
    "np.random.random((3,3,3))"
   ]
  },
  {
   "cell_type": "markdown",
   "metadata": {},
   "source": [
    "# 2.Create a 5x5 matrix with values 1,2,3,4 just below the diagonal"
   ]
  },
  {
   "cell_type": "code",
   "execution_count": 3,
   "metadata": {},
   "outputs": [
    {
     "name": "stdout",
     "output_type": "stream",
     "text": [
      "0 0 0 0 0  \n",
      "1 0 0 0 0  \n",
      "1 2 0 0 0  \n",
      "1 2 3 0 0  \n",
      "1 2 3 4 0  \n"
     ]
    }
   ],
   "source": [
    "def lowertriangular(a,r,c):\n",
    "    for i in range(0,r):\n",
    "        for j in range(0,c):\n",
    "            if i <= j:\n",
    "                print(0,end=' ')\n",
    "            else:\n",
    "                print(j+1,end=' ')\n",
    "        print(' ')\n",
    "\n",
    "a = np.zeros((5,5), dtype='int')\n",
    "lowertriangular(a,5,5)"
   ]
  },
  {
   "cell_type": "markdown",
   "metadata": {},
   "source": [
    "# 3.Create a 8x8 matrix and fill it with a checkerboard pattern"
   ]
  },
  {
   "cell_type": "code",
   "execution_count": 4,
   "metadata": {},
   "outputs": [
    {
     "name": "stdout",
     "output_type": "stream",
     "text": [
      "CheckBoard Pattern:\n",
      "[[0 1 0 1 0 1 0 1]\n",
      " [1 0 1 0 1 0 1 0]\n",
      " [0 1 0 1 0 1 0 1]\n",
      " [1 0 1 0 1 0 1 0]\n",
      " [0 1 0 1 0 1 0 1]\n",
      " [1 0 1 0 1 0 1 0]\n",
      " [0 1 0 1 0 1 0 1]\n",
      " [1 0 1 0 1 0 1 0]]\n"
     ]
    }
   ],
   "source": [
    "a = np.zeros((8,8), dtype='int')\n",
    "print('CheckBoard Pattern:')\n",
    "a[1::2,::2] = 1\n",
    "a[::2,1::2] = 1\n",
    "print(a)"
   ]
  },
  {
   "cell_type": "markdown",
   "metadata": {},
   "source": [
    "# 4. Normalize a 5x5 random matrix"
   ]
  },
  {
   "cell_type": "code",
   "execution_count": 5,
   "metadata": {},
   "outputs": [
    {
     "name": "stdout",
     "output_type": "stream",
     "text": [
      "[[0.99052548 0.74279025 0.31480759 0.51191824 0.21869112]\n",
      " [0.8769114  0.07369352 0.39535261 0.1543532  0.28156476]\n",
      " [0.90058252 0.87267055 0.50930924 0.28555914 0.98883165]\n",
      " [0.28512882 0.21932518 0.69830756 0.01216022 0.34356764]\n",
      " [0.58168089 0.62927253 0.78686649 0.60390957 0.19015504]] \n",
      "\n",
      "[0.99052548 0.74279025 0.31480759 0.51191824 0.21869112 0.8769114\n",
      " 0.07369352 0.39535261 0.1543532  0.28156476 0.90058252 0.87267055\n",
      " 0.50930924 0.28555914 0.98883165 0.28512882 0.21932518 0.69830756\n",
      " 0.01216022 0.34356764 0.58168089 0.62927253 0.78686649 0.60390957\n",
      " 0.19015504]\n"
     ]
    }
   ],
   "source": [
    "arr = np.random.random((5,5))\n",
    "newarr = arr.reshape(-1)\n",
    "print(arr,'\\n')\n",
    "print(newarr)"
   ]
  },
  {
   "cell_type": "markdown",
   "metadata": {},
   "source": [
    "# 5.  How to find common values between two arrays?"
   ]
  },
  {
   "cell_type": "code",
   "execution_count": 6,
   "metadata": {},
   "outputs": [
    {
     "name": "stdout",
     "output_type": "stream",
     "text": [
      "[1 2 3 4 5] [3 5 6 7 8]\n",
      "3\n",
      "5\n"
     ]
    }
   ],
   "source": [
    "a = np.array([1,2,3,4,5])\n",
    "b = np.array([3,5,6,7,8])\n",
    "print(a,b)\n",
    "for i in a:\n",
    "    if i in b:\n",
    "        print(i)"
   ]
  },
  {
   "cell_type": "markdown",
   "metadata": {},
   "source": [
    "# 6.How to get the dates of yesterday, today and tomorrow?"
   ]
  },
  {
   "cell_type": "code",
   "execution_count": 7,
   "metadata": {},
   "outputs": [
    {
     "name": "stdout",
     "output_type": "stream",
     "text": [
      "Yesterday: 2020-07-26\n",
      "Today: 2020-07-27\n",
      "Tomorrow: 2020-07-28\n"
     ]
    }
   ],
   "source": [
    "yesterday = np.datetime64('today','D') - np.timedelta64(1,'D')\n",
    "print('Yesterday:',yesterday)\n",
    "today = np.datetime64('today','D')\n",
    "print('Today:',today)\n",
    "tomorrow = np.datetime64('today','D') + np.timedelta64(1,'D')\n",
    "print('Tomorrow:',tomorrow)"
   ]
  },
  {
   "cell_type": "markdown",
   "metadata": {},
   "source": [
    "# 7. Consider two random array A and B, check if they are equal"
   ]
  },
  {
   "cell_type": "code",
   "execution_count": 8,
   "metadata": {},
   "outputs": [
    {
     "name": "stdout",
     "output_type": "stream",
     "text": [
      "[3 0 2 3 0 2]\n",
      "[1 2 0 1 1 2]\n",
      "Arrays are not equal\n"
     ]
    }
   ],
   "source": [
    "A = np.random.randint(0,4,6)\n",
    "B = np.random.randint(0,4,6)\n",
    "print(A)\n",
    "print(B)\n",
    "if np.allclose(A,B):\n",
    "    print('Arrays are equal')\n",
    "else:\n",
    "    print('Arrays are not equal')"
   ]
  },
  {
   "cell_type": "markdown",
   "metadata": {},
   "source": [
    "# 8.Create random vector of size 10 and replace the maximum value by 0 "
   ]
  },
  {
   "cell_type": "code",
   "execution_count": 9,
   "metadata": {},
   "outputs": [
    {
     "name": "stdout",
     "output_type": "stream",
     "text": [
      "[0.6139216  0.09978521 0.3599733  0.05767051 0.93888644 0.64404106\n",
      " 0.85606147 0.26670138 0.63012777 0.13388625]\n",
      "\n",
      "\n",
      "Max value: 0.9388864446823619 \n",
      "\n",
      "[0.6139216  0.09978521 0.3599733  0.05767051 0.         0.64404106\n",
      " 0.85606147 0.26670138 0.63012777 0.13388625]\n"
     ]
    }
   ],
   "source": [
    "v = np.random.random((10))\n",
    "print(v)\n",
    "print('\\n')\n",
    "print('Max value:',np.amax(v),'\\n')\n",
    "v[np.argmax(v)] = 0.0\n",
    "print(v)"
   ]
  },
  {
   "cell_type": "markdown",
   "metadata": {},
   "source": [
    "# 9. How to print all the values of an array?"
   ]
  },
  {
   "cell_type": "code",
   "execution_count": 10,
   "metadata": {},
   "outputs": [
    {
     "name": "stdout",
     "output_type": "stream",
     "text": [
      "[0.89986058 0.26881427 0.95952754 0.56023879 0.5476764  0.31358003]\n",
      "All values of array\n",
      "0.8998605841279035\n",
      "0.26881427101820243\n",
      "0.959527544088841\n",
      "0.5602387916661558\n",
      "0.5476764014744868\n",
      "0.31358002646111627\n"
     ]
    }
   ],
   "source": [
    "a = np.random.random((6))\n",
    "print(a)\n",
    "print('All values of array')\n",
    "for i in a:\n",
    "    print(i)"
   ]
  },
  {
   "cell_type": "markdown",
   "metadata": {},
   "source": [
    "# 10.Subtract the mean of each row of a matrix"
   ]
  },
  {
   "cell_type": "code",
   "execution_count": 11,
   "metadata": {},
   "outputs": [
    {
     "name": "stdout",
     "output_type": "stream",
     "text": [
      "[[0.32569982 0.28007511 0.0209747  0.05529265]\n",
      " [0.29303589 0.28885252 0.79037437 0.3400421 ]\n",
      " [0.96335943 0.22471617 0.11689694 0.8577447 ]\n",
      " [0.26671497 0.80985114 0.63775759 0.44463851]]\n",
      "Mean of each row\n",
      "0.1705105687902746\n",
      "0.4280762233542721\n",
      "0.540679308647245\n",
      "0.5397405538974579\n"
     ]
    }
   ],
   "source": [
    "a = np.random.random((4,4))\n",
    "print(a)\n",
    "print('Mean of each row')\n",
    "for i in a:\n",
    "    print(np.mean(i))"
   ]
  },
  {
   "cell_type": "markdown",
   "metadata": {},
   "source": [
    "# 11.Consider a given vector, how to add 1 to each element indexed by a second vector (be careful with repeated indices)? "
   ]
  },
  {
   "cell_type": "code",
   "execution_count": 12,
   "metadata": {},
   "outputs": [
    {
     "name": "stdout",
     "output_type": "stream",
     "text": [
      "[5 1 7 1 4 2 5 6]\n",
      "[1 0 3 5]\n",
      "After adding 1 to each element indexed by second:\n",
      "[2 6 2 3]\n"
     ]
    }
   ],
   "source": [
    "a = np.random.randint(1,8,8)\n",
    "b = np.array([1,0,3,5])\n",
    "print(a)\n",
    "print(b)\n",
    "c = a[b] + 1\n",
    "print('After adding 1 to each element indexed by second:')\n",
    "print(c)"
   ]
  },
  {
   "cell_type": "markdown",
   "metadata": {},
   "source": [
    "# 12.How to get the diagonal of a dot product?"
   ]
  },
  {
   "cell_type": "code",
   "execution_count": 13,
   "metadata": {},
   "outputs": [
    {
     "name": "stdout",
     "output_type": "stream",
     "text": [
      "[[37 40]\n",
      " [85 92]]\n",
      "Diagonal of above product: [37 92]\n"
     ]
    }
   ],
   "source": [
    "a = np.array([[1,2],[3,4]]) \n",
    "b = np.array([[11,12],[13,14]]) \n",
    "c = np.dot(a,b)\n",
    "d = np.diag(np.dot(a,b))\n",
    "print(c)\n",
    "print('Diagonal of above product:',d)"
   ]
  },
  {
   "cell_type": "markdown",
   "metadata": {},
   "source": [
    "# 13.How to find the most frequent value in an array?"
   ]
  },
  {
   "cell_type": "code",
   "execution_count": 14,
   "metadata": {},
   "outputs": [
    {
     "name": "stdout",
     "output_type": "stream",
     "text": [
      "3\n"
     ]
    }
   ],
   "source": [
    "a = np.array((1,2,3,4,5,3,2,5,3,3,4))\n",
    "print(np.bincount(a).argmax())"
   ]
  },
  {
   "cell_type": "markdown",
   "metadata": {},
   "source": [
    "# 14.How to get the n largest values of an array"
   ]
  },
  {
   "cell_type": "code",
   "execution_count": 15,
   "metadata": {},
   "outputs": [
    {
     "name": "stdout",
     "output_type": "stream",
     "text": [
      "[0.02725739 0.35669639 0.36139132 0.42196048 0.42950743 0.51344348\n",
      " 0.800624   0.91319111 0.91414776 0.98582749]\n",
      "Largest value of an array:\n",
      "[0.98582749]\n"
     ]
    }
   ],
   "source": [
    "a = np.random.random(10)\n",
    "np.random.shuffle(a)\n",
    "print(a[np.argsort(a)])\n",
    "print('Largest value of an array:')\n",
    "print(a[np.argsort(a)[-1:]])"
   ]
  },
  {
   "cell_type": "markdown",
   "metadata": {},
   "source": [
    "# 15.How to create a record array from a regular array?"
   ]
  },
  {
   "cell_type": "code",
   "execution_count": 16,
   "metadata": {},
   "outputs": [
    {
     "name": "stdout",
     "output_type": "stream",
     "text": [
      "Regular array [(1, 2.) (4, 5.)]\n",
      "Record array\n",
      "[1 4]\n",
      "[2. 5.]\n"
     ]
    }
   ],
   "source": [
    "a = np.array([(1,2.0),(4,5.0)], dtype=[('x','int'),('y','float')])\n",
    "print('Regular array',a)\n",
    "a = a.view(np.recarray)\n",
    "print('Record array')\n",
    "print(a.x)\n",
    "print(a.y)"
   ]
  }
 ],
 "metadata": {
  "kernelspec": {
   "display_name": "Python 3",
   "language": "python",
   "name": "python3"
  },
  "language_info": {
   "codemirror_mode": {
    "name": "ipython",
    "version": 3
   },
   "file_extension": ".py",
   "mimetype": "text/x-python",
   "name": "python",
   "nbconvert_exporter": "python",
   "pygments_lexer": "ipython3",
   "version": "3.7.7"
  },
  "toc": {
   "base_numbering": 1,
   "nav_menu": {},
   "number_sections": false,
   "sideBar": true,
   "skip_h1_title": false,
   "title_cell": "Table of Contents",
   "title_sidebar": "Contents",
   "toc_cell": false,
   "toc_position": {},
   "toc_section_display": true,
   "toc_window_display": false
  },
  "varInspector": {
   "cols": {
    "lenName": 16,
    "lenType": 16,
    "lenVar": 40
   },
   "kernels_config": {
    "python": {
     "delete_cmd_postfix": "",
     "delete_cmd_prefix": "del ",
     "library": "var_list.py",
     "varRefreshCmd": "print(var_dic_list())"
    },
    "r": {
     "delete_cmd_postfix": ") ",
     "delete_cmd_prefix": "rm(",
     "library": "var_list.r",
     "varRefreshCmd": "cat(var_dic_list()) "
    }
   },
   "types_to_exclude": [
    "module",
    "function",
    "builtin_function_or_method",
    "instance",
    "_Feature"
   ],
   "window_display": false
  }
 },
 "nbformat": 4,
 "nbformat_minor": 2
}
