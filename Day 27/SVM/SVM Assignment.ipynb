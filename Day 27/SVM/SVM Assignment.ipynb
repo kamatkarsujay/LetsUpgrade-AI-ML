{
 "cells": [
  {
   "cell_type": "code",
   "execution_count": 1,
   "metadata": {},
   "outputs": [],
   "source": [
    "import numpy as np\n",
    "import pandas as pd\n",
    "import matplotlib.pyplot as plt\n",
    "import seaborn as sns\n",
    "from sklearn.model_selection import train_test_split\n",
    "from sklearn import preprocessing\n",
    "from sklearn.metrics import *\n",
    "from sklearn import svm"
   ]
  },
  {
   "cell_type": "code",
   "execution_count": 2,
   "metadata": {},
   "outputs": [
    {
     "data": {
      "text/plain": [
       "Index(['PassengerId', 'Survived', 'Pclass', 'Name', 'Sex', 'Age', 'SibSp',\n",
       "       'Parch', 'Ticket', 'Fare', 'Cabin', 'Embarked'],\n",
       "      dtype='object')"
      ]
     },
     "execution_count": 2,
     "metadata": {},
     "output_type": "execute_result"
    }
   ],
   "source": [
    "df = pd.read_csv('train.csv')\n",
    "df.columns"
   ]
  },
  {
   "cell_type": "code",
   "execution_count": 3,
   "metadata": {},
   "outputs": [],
   "source": [
    "df = df.drop(['PassengerId','Name','Ticket','Cabin'],axis=1)"
   ]
  },
  {
   "cell_type": "code",
   "execution_count": 4,
   "metadata": {},
   "outputs": [],
   "source": [
    "le = preprocessing.LabelEncoder()"
   ]
  },
  {
   "cell_type": "code",
   "execution_count": 5,
   "metadata": {},
   "outputs": [],
   "source": [
    "df['Sex'] = le.fit_transform(df['Sex'])"
   ]
  },
  {
   "cell_type": "code",
   "execution_count": 6,
   "metadata": {},
   "outputs": [],
   "source": [
    "df['Embarked'] = le.fit_transform(df['Embarked'])"
   ]
  },
  {
   "cell_type": "code",
   "execution_count": 7,
   "metadata": {},
   "outputs": [
    {
     "data": {
      "text/plain": [
       "Survived    0\n",
       "Pclass      0\n",
       "Sex         0\n",
       "Age         0\n",
       "SibSp       0\n",
       "Parch       0\n",
       "Fare        0\n",
       "Embarked    0\n",
       "dtype: int64"
      ]
     },
     "execution_count": 7,
     "metadata": {},
     "output_type": "execute_result"
    }
   ],
   "source": [
    "df.isna().sum()"
   ]
  },
  {
   "cell_type": "code",
   "execution_count": 8,
   "metadata": {},
   "outputs": [
    {
     "name": "stdout",
     "output_type": "stream",
     "text": [
      "<class 'pandas.core.frame.DataFrame'>\n",
      "RangeIndex: 889 entries, 0 to 888\n",
      "Data columns (total 8 columns):\n",
      " #   Column    Non-Null Count  Dtype  \n",
      "---  ------    --------------  -----  \n",
      " 0   Survived  889 non-null    int64  \n",
      " 1   Pclass    889 non-null    int64  \n",
      " 2   Sex       889 non-null    int32  \n",
      " 3   Age       889 non-null    float64\n",
      " 4   SibSp     889 non-null    int64  \n",
      " 5   Parch     889 non-null    int64  \n",
      " 6   Fare      889 non-null    float64\n",
      " 7   Embarked  889 non-null    int32  \n",
      "dtypes: float64(2), int32(2), int64(4)\n",
      "memory usage: 48.7 KB\n"
     ]
    }
   ],
   "source": [
    "df.info()"
   ]
  },
  {
   "cell_type": "code",
   "execution_count": 12,
   "metadata": {},
   "outputs": [],
   "source": [
    "def SVM(DV):\n",
    "    X = df.drop([DV],axis=1)\n",
    "    y = df[DV]\n",
    "    X_train,X_test,y_train,y_test = train_test_split(X,y,test_size=0.3,random_state=0)\n",
    "    clf = svm.SVC(gamma=0.01,C=100)\n",
    "    clf.fit(X_train,y_train)\n",
    "    y_pred = clf.predict(X_test)\n",
    "    ac = accuracy_score(y_test,y_pred,normalize=True)\n",
    "    cm = confusion_matrix(y_test,y_pred)\n",
    "    print('Accuracy Score for {} is: {}'.format(DV,ac))\n",
    "    print('Confusion Matrix for {} is: \\n {}'.format(DV,cm))"
   ]
  },
  {
   "cell_type": "code",
   "execution_count": 13,
   "metadata": {},
   "outputs": [],
   "source": [
    "Target_Variable = ['Survived', 'Pclass', 'Sex', 'SibSp', 'Parch', 'Embarked']"
   ]
  },
  {
   "cell_type": "code",
   "execution_count": 14,
   "metadata": {},
   "outputs": [
    {
     "name": "stdout",
     "output_type": "stream",
     "text": [
      "-------------------------------\n",
      "Accuracy Score for Survived is: 0.7415730337078652\n",
      "Confusion Matrix for Survived is: \n",
      " [[124  33]\n",
      " [ 36  74]]\n",
      "-------------------------------\n",
      "-------------------------------\n",
      "Accuracy Score for Pclass is: 0.9026217228464419\n",
      "Confusion Matrix for Pclass is: \n",
      " [[ 64   4   2]\n",
      " [  4  36   9]\n",
      " [  1   6 141]]\n",
      "-------------------------------\n",
      "-------------------------------\n",
      "Accuracy Score for Sex is: 0.7265917602996255\n",
      "Confusion Matrix for Sex is: \n",
      " [[ 66  32]\n",
      " [ 41 128]]\n",
      "-------------------------------\n",
      "-------------------------------\n",
      "Accuracy Score for SibSp is: 0.7490636704119851\n",
      "Confusion Matrix for SibSp is: \n",
      " [[150  24   7   0   1   0   0]\n",
      " [ 21  39   5   0   0   0   0]\n",
      " [  4   1   3   0   0   0   0]\n",
      " [  0   2   1   3   1   0   0]\n",
      " [  0   0   0   0   2   0   0]\n",
      " [  0   0   0   0   0   1   0]\n",
      " [  0   0   0   0   0   0   2]]\n",
      "-------------------------------\n",
      "-------------------------------\n",
      "Accuracy Score for Parch is: 0.797752808988764\n",
      "Confusion Matrix for Parch is: \n",
      " [[187   6   5   0   0   0]\n",
      " [ 21  15   3   0   0   1]\n",
      " [ 10   6  11   0   0   0]\n",
      " [  0   0   1   0   0   0]\n",
      " [  1   0   0   0   0   0]\n",
      " [  0   0   0   0   0   0]]\n",
      "-------------------------------\n",
      "-------------------------------\n",
      "Accuracy Score for Embarked is: 0.7677902621722846\n",
      "Confusion Matrix for Embarked is: \n",
      " [[ 23   2  24]\n",
      " [  0   8  14]\n",
      " [ 18   4 174]]\n",
      "-------------------------------\n"
     ]
    }
   ],
   "source": [
    "for i in Target_Variable:\n",
    "    print('-------------------------------')\n",
    "    SVM(i)\n",
    "    print('-------------------------------')"
   ]
  },
  {
   "cell_type": "code",
   "execution_count": null,
   "metadata": {},
   "outputs": [],
   "source": []
  }
 ],
 "metadata": {
  "kernelspec": {
   "display_name": "Python 3.7.7 64-bit",
   "language": "python",
   "name": "python37764bitb1f3ef7438764c35adff473abad36631"
  },
  "language_info": {
   "codemirror_mode": {
    "name": "ipython",
    "version": 3
   },
   "file_extension": ".py",
   "mimetype": "text/x-python",
   "name": "python",
   "nbconvert_exporter": "python",
   "pygments_lexer": "ipython3",
   "version": "3.7.7"
  },
  "toc": {
   "base_numbering": 1,
   "nav_menu": {},
   "number_sections": true,
   "sideBar": true,
   "skip_h1_title": false,
   "title_cell": "Table of Contents",
   "title_sidebar": "Contents",
   "toc_cell": false,
   "toc_position": {},
   "toc_section_display": true,
   "toc_window_display": false
  },
  "varInspector": {
   "cols": {
    "lenName": 16,
    "lenType": 16,
    "lenVar": 40
   },
   "kernels_config": {
    "python": {
     "delete_cmd_postfix": "",
     "delete_cmd_prefix": "del ",
     "library": "var_list.py",
     "varRefreshCmd": "print(var_dic_list())"
    },
    "r": {
     "delete_cmd_postfix": ") ",
     "delete_cmd_prefix": "rm(",
     "library": "var_list.r",
     "varRefreshCmd": "cat(var_dic_list()) "
    }
   },
   "types_to_exclude": [
    "module",
    "function",
    "builtin_function_or_method",
    "instance",
    "_Feature"
   ],
   "window_display": false
  }
 },
 "nbformat": 4,
 "nbformat_minor": 4
}
