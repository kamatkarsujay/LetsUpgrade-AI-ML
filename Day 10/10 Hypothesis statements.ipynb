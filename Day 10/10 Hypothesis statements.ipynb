{
 "cells": [
  {
   "cell_type": "markdown",
   "metadata": {},
   "source": [
    "# Statements"
   ]
  },
  {
   "cell_type": "markdown",
   "metadata": {},
   "source": [
    "## 1. The mean age of employee with attrition is 34 and population standard deviation is 12. Hypothesis: Sample mean of 100 employee with attrition is 36."
   ]
  },
  {
   "cell_type": "markdown",
   "metadata": {},
   "source": [
    "### H0: μ = 34  \n",
    "### H1: μ != 34"
   ]
  },
  {
   "cell_type": "markdown",
   "metadata": {},
   "source": [
    "## 2. The mean of distance from home with  attrition is 12 and population standard deviation is 7.3. Hypothesis: Sample mean of 100 employee with attrition is 13"
   ]
  },
  {
   "cell_type": "markdown",
   "metadata": {},
   "source": [
    "### H0: μ = 12  \n",
    "### H1: μ != 12"
   ]
  },
  {
   "cell_type": "markdown",
   "metadata": {},
   "source": [
    "## 3. The mean job level of employee with attrition is 2 and populationn standard deviation is 4. Hypothesis: Sample mean of 100 employee with attrition is 3"
   ]
  },
  {
   "cell_type": "markdown",
   "metadata": {},
   "source": [
    "### H0: μ = 2  \n",
    "### H1: μ != 2"
   ]
  },
  {
   "cell_type": "markdown",
   "metadata": {},
   "source": [
    "## 4. The mean of Monthly Income of employee with attrition is 54000 and population standard deviation is 6. Hypothesis: Sample mean of 100 employee with attrition is 56000."
   ]
  },
  {
   "cell_type": "markdown",
   "metadata": {},
   "source": [
    "### H0: μ = 54000\n",
    "### H1: μ != 54000"
   ]
  },
  {
   "cell_type": "markdown",
   "metadata": {},
   "source": [
    "## 5. The mean of No. of companies worked with attrition is 1 and population standard deviation is 7. Hypothesis: Sample mean of 100 employee with attrition is 2."
   ]
  },
  {
   "cell_type": "markdown",
   "metadata": {},
   "source": [
    "### H0: μ = 1  \n",
    "### H1: μ != 1"
   ]
  },
  {
   "cell_type": "markdown",
   "metadata": {},
   "source": [
    "## 6. The mean of Percent salary hike with attrition is 13 and population standard deviation is 10. Hypothesis: Sample mean of 100 employee with attrition is 14."
   ]
  },
  {
   "cell_type": "markdown",
   "metadata": {},
   "source": [
    "### H0: μ = 13 \n",
    "### H1: μ != 13"
   ]
  },
  {
   "cell_type": "markdown",
   "metadata": {},
   "source": [
    "## 7. The mean of Stock Option level of employee with attrition is 1 and population standard deviation is 3. Hypothesis: Sample mean of 100 employee with attrition is 1."
   ]
  },
  {
   "cell_type": "markdown",
   "metadata": {},
   "source": [
    "### H0: μ = 1  \n",
    "### H1: μ != 1"
   ]
  },
  {
   "cell_type": "markdown",
   "metadata": {},
   "source": [
    "## 8. The mean of Total working years of employee with attrition is 5 and population standard deviation is 11. Hypothesis: Sample mean of 100 employee with attrition is 6."
   ]
  },
  {
   "cell_type": "markdown",
   "metadata": {},
   "source": [
    "### H0: μ = 5  \n",
    "### H1: μ != 5"
   ]
  },
  {
   "cell_type": "markdown",
   "metadata": {},
   "source": [
    "## 9. The mean of Years at company of employee with attrition is 3 and population standard deviation is 7. Hypothesis: Sample mean of 100 employee with attrition is 4."
   ]
  },
  {
   "cell_type": "markdown",
   "metadata": {},
   "source": [
    "### H0: μ = 3  \n",
    "### H1: μ != 3"
   ]
  },
  {
   "cell_type": "markdown",
   "metadata": {},
   "source": [
    "## 10. The mean of Years with current manager of employee with attrition is 4 and population standard deviation is 3. Hypothesis: Sample mean of 100 employee with attrition is 4."
   ]
  },
  {
   "cell_type": "markdown",
   "metadata": {},
   "source": [
    "### H0: μ = 4  \n",
    "### H1: μ != 4"
   ]
  }
 ],
 "metadata": {
  "kernelspec": {
   "display_name": "Python 3.7.7 64-bit",
   "language": "python",
   "name": "python37764bitb1f3ef7438764c35adff473abad36631"
  },
  "language_info": {
   "codemirror_mode": {
    "name": "ipython",
    "version": 3
   },
   "file_extension": ".py",
   "mimetype": "text/x-python",
   "name": "python",
   "nbconvert_exporter": "python",
   "pygments_lexer": "ipython3",
   "version": "3.7.7"
  }
 },
 "nbformat": 4,
 "nbformat_minor": 4
}
