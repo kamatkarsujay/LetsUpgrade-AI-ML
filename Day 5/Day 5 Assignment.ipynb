{
 "cells": [
  {
   "cell_type": "markdown",
   "metadata": {},
   "source": [
    "## Question 1 \n",
    "__Write a Python program to find the first 20 non-even prime natural numbers__"
   ]
  },
  {
   "cell_type": "code",
   "execution_count": 36,
   "metadata": {},
   "outputs": [
    {
     "name": "stdout",
     "output_type": "stream",
     "text": [
      "First 20 non-even prime natural no are:\n",
      "3\n",
      "5\n",
      "7\n",
      "11\n",
      "13\n",
      "17\n",
      "19\n",
      "23\n",
      "29\n",
      "31\n",
      "37\n",
      "41\n",
      "43\n",
      "47\n",
      "53\n",
      "59\n",
      "61\n",
      "67\n",
      "71\n",
      "73\n"
     ]
    }
   ],
   "source": [
    "# First 20 non-even prime natural no\n",
    "print('First 20 non-even prime natural no are:')\n",
    "for num in range(100):\n",
    "    if num > 2:\n",
    "        for i in range(2,num):\n",
    "            if num % i == 0:\n",
    "                break\n",
    "        else:\n",
    "    #           First 20 non-even prime no comes till 40\n",
    "            if num > 78:\n",
    "                break\n",
    "            else:\n",
    "                print(num)"
   ]
  },
  {
   "cell_type": "markdown",
   "metadata": {},
   "source": [
    "## Question 2 \n",
    "__Write a Python program to implement 15 functions of string__"
   ]
  },
  {
   "cell_type": "code",
   "execution_count": 2,
   "metadata": {},
   "outputs": [
    {
     "name": "stdout",
     "output_type": "stream",
     "text": [
      "15 Functions of string are as follows:\n",
      "1. Hello\n",
      "2. hello\n",
      "3. 2\n",
      "4. True\n",
      "5. 1\n",
      "6. Hello World\n",
      "7. 1\n",
      "8. True\n",
      "9. True\n",
      "10. False\n",
      "11. True\n",
      "12. False\n",
      "13. HELLO\n",
      "14. False\n",
      "15. bello\n"
     ]
    }
   ],
   "source": [
    "print('15 Functions of string are as follows:')\n",
    "a = 'hello'\n",
    "# First fun capitalize()\n",
    "print('1.',a.capitalize())\n",
    "# Second fun casefold()\n",
    "print('2.',a.casefold())\n",
    "# Third fun count()\n",
    "print('3.',a.count('l'))\n",
    "# Fourth fun endswith()\n",
    "print('4.',a.endswith('o'))\n",
    "# Five fun find()\n",
    "print('5.',a.find('e'))\n",
    "# Six fun format()\n",
    "print('6.','Hello {}'.format('World'))\n",
    "# Seven fun index()\n",
    "print('7.',a.index('e'))\n",
    "# Eight fun isalnum()\n",
    "print('8.',a.isalnum())\n",
    "# Nine fun isalpha()\n",
    "print('9.',a.isalpha())\n",
    "# Ten fun isdigit()\n",
    "print('10.',a.isdigit())\n",
    "# Eleven fun isprintable()\n",
    "print('11.',a.isprintable())\n",
    "# Twelve fun isspace()\n",
    "print('12.',a.isspace())\n",
    "# Thirteen fun upper()\n",
    "print('13.',a.upper())\n",
    "# Fourteen fun isupper()\n",
    "print('14.',a.isupper())\n",
    "# Fifteen fun replace()\n",
    "print('15.',a.replace('h','b'))"
   ]
  },
  {
   "cell_type": "markdown",
   "metadata": {},
   "source": [
    "## Question 3\n",
    "__Write a Python program to check if the given string is a Palindrome or Anagram or None of them.Display the message accordingly to the user__"
   ]
  },
  {
   "cell_type": "code",
   "execution_count": 3,
   "metadata": {},
   "outputs": [
    {
     "name": "stdout",
     "output_type": "stream",
     "text": [
      "dad\n",
      "Given string is palindrome!!\n",
      "\n",
      "-----------------\n",
      "\n",
      "cat\n",
      "act\n",
      "Given two strings are Anagram!!\n"
     ]
    }
   ],
   "source": [
    "# Palindrome\n",
    "a = input()\n",
    "if a == a[::-1]:\n",
    "    print('Given string is palindrome!!')\n",
    "else:\n",
    "    print('Not palindrome!')\n",
    "\n",
    "# Anagram\n",
    "print('\\n-----------------\\n')\n",
    "x = input()\n",
    "y = input()\n",
    "if sorted(x) == sorted(y):\n",
    "    print('Given two strings are Anagram!!')\n",
    "else:\n",
    "    print('Not Anagram!')"
   ]
  },
  {
   "cell_type": "markdown",
   "metadata": {},
   "source": [
    "## Question 4\n",
    "__Write a Python's user defined function that removes all the additional characters from the stringand converts it finally to lower case using built-in lower(). eg: If the string is \"Dr. Darshan Ingle@AI-ML Trainer\", then the output be \"drdarshaningleaimltrainer\"__"
   ]
  },
  {
   "cell_type": "code",
   "execution_count": 38,
   "metadata": {},
   "outputs": [
    {
     "name": "stdout",
     "output_type": "stream",
     "text": [
      "drdarshaningleaimltrainer\n"
     ]
    }
   ],
   "source": [
    "a = 'Dr. Darshan Ingle@AI-ML Trainer'\n",
    "for i in a:\n",
    "    if not(i.isalpha()):\n",
    "        a = a.replace(i,'')\n",
    "print(a.lower())"
   ]
  }
 ],
 "metadata": {
  "kernelspec": {
   "display_name": "Python 3.7.7 64-bit",
   "language": "python",
   "name": "python37764bitb1f3ef7438764c35adff473abad36631"
  },
  "language_info": {
   "codemirror_mode": {
    "name": "ipython",
    "version": 3
   },
   "file_extension": ".py",
   "mimetype": "text/x-python",
   "name": "python",
   "nbconvert_exporter": "python",
   "pygments_lexer": "ipython3",
   "version": "3.7.7"
  }
 },
 "nbformat": 4,
 "nbformat_minor": 4
}
